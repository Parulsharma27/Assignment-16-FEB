{
 "cells": [
  {
   "cell_type": "code",
   "execution_count": null,
   "id": "92dd4ecb-2329-4a0e-a87d-0de37003989f",
   "metadata": {},
   "outputs": [],
   "source": [
    "Q1\n",
    "A database is an organized collection of structured information, or data, typically stored electronically in a computer system. \n",
    "Differnec between SQL and NoSQL\n",
    "1- SQL databases are relational, and NoSQL databases are non-relational.\n",
    "2. SQL databases use structured query language (SQL) and have a predefined schema. NoSQL databases have dynamic schemas for unstructured data.\n",
    "3. SQL databases are vertically scalable, while NoSQL databases are horizontally scalable.\n",
    "4. SQL databases are table-based, while NoSQL databases are document, key-value, graph, or wide-column stores.\n",
    "5. SQL databases are better for multi-row transactions, while NoSQL is better for unstructured data like documents or JSON.\n",
    "\n"
   ]
  },
  {
   "cell_type": "code",
   "execution_count": null,
   "id": "446e1fab-a36b-4f8a-93c7-5220bb5131c1",
   "metadata": {},
   "outputs": [],
   "source": [
    "CREATE: This command is used to create a new database object such as a table, view, or index. For example, to create a new table named \"customers\", we can use the following SQL command:\n",
    "    CREATE TABLE customers (\n",
    "         id INT PRIMARY KEY,\n",
    "         name VARCHAR(50),\n",
    "         email VARCHAR(50)\n",
    "         );\n",
    "    \n",
    "DROP: This command is used to delete an existing database object such as a table, view, or index. For example, to delete the \"customers\" table that we created above, we can use the following SQL command:\n",
    "        \n",
    "        DROP TABLE customers;\n",
    "ALTER: This command is used to modify an existing database object such as a table, view, or index. For example, to add a new column called \"phone\" to the \"customers\" table, we can use the following SQL command:\n",
    "\n",
    "sql\n",
    "ALTER TABLE customers\n",
    "ADD COLUMN phone VARCHAR(20);\n",
    "\n",
    "\n",
    "TRUNCATE: This command is used to remove all the data from an existing table. It is similar to the DELETE command but it is faster and doesn't keep the transaction log. For example, to remove all the data from the \"customers\" table, we can use the following SQL \n",
    "TRUNCATE TABLE customers;\n",
    "        "
   ]
  },
  {
   "cell_type": "code",
   "execution_count": null,
   "id": "a3ce41eb-25d4-49e0-9f8f-fc23bbddfe69",
   "metadata": {},
   "outputs": [],
   "source": [
    "Q3\n",
    "\n",
    "What is DML? Explain INSERT, UPDATE, and DELETE with an example.\n",
    "DML stands for Data Manipulation Language. It is a subset of SQL that is used to modify data in a database. The three main DML commands are INSERT, UPDATE, and DELETE.\n",
    "\n",
    "INSERT:\n",
    "The INSERT command is used to insert new data into a table. For example, suppose you have a table called \"students\" with columns \"id\", \"name\", and \"age\". To insert a new student record with an id of 1001, a name of \"John Doe\", and an age of 22, you would use the following SQL statement:\n",
    "sql\n",
    "C\n",
    "INSERT INTO students (id, name, age) VALUES (1001, 'John Doe', 22);\n",
    "\n",
    "\n",
    "UPDATE:\n",
    "The UPDATE command is used to modify existing data in a table. For example, suppose you want to update the age of the student with an id of 1001 to 23. You would use the following SQL statement:\n",
    "sql\n",
    "\n",
    "UPDATE students SET age = 23 WHERE id = 1001;\n",
    "\n",
    "\n",
    "DELETE:\n",
    "The DELETE command is used to remove data from a table. For example, suppose you want to delete the student record with an id of 1001. You would use the following SQL statement:\n",
    "sql\n",
    "\n",
    "DELETE FROM students WHERE id = 1001;\n"
   ]
  },
  {
   "cell_type": "code",
   "execution_count": null,
   "id": "d17fa978-3487-457b-96e2-284dcea10802",
   "metadata": {},
   "outputs": [],
   "source": [
    "Q4\n",
    "DQL stands for Data Query Language, and it is a sub-language of SQL (Structured Query Language) used to retrieve data from a relational database management system (RDBMS).\n",
    "\n",
    "The SELECT statement is the most commonly used command in DQL, which allows you to retrieve data from one or more tables. Here's an example of how to use SELECT to retrieve data from a table:\n",
    "\n",
    "To retrieve all of the information about all students in the table, we would use the following SELECT statement:\n",
    "SELECT * FROM students;\n",
    "\n",
    "\n",
    "To retrieve specific columns, you can replace the asterisk with a comma-separated list of column names:\n",
    "SELECT name, grade FROM students;"
   ]
  },
  {
   "cell_type": "code",
   "execution_count": null,
   "id": "95eb00fc-2b37-4d10-8f4b-d7126860ee8c",
   "metadata": {},
   "outputs": [],
   "source": [
    "Q5-\n",
    "Primary Key: A primary key is used to ensure that data in the specific column is unique. A column cannot have NULL values. It is either an existing table column or a column that is specifically generated by the database according to a defined sequence\n",
    "\n",
    "A foreign key is a column or group of columns in a relational database table that provides a link between data in two tables. It is a column (or columns) that references a column (most often the primary key) of another table. "
   ]
  },
  {
   "cell_type": "code",
   "execution_count": null,
   "id": "5d7ee0ed-cb77-49f7-be92-4aaca565b237",
   "metadata": {},
   "outputs": [],
   "source": [
    "Q6\n",
    "mport mysql.connector\n",
    "\n",
    "\n",
    "mydb = mysql.connector.connect(\n",
    "  host=\"localhost\",\n",
    "  user=\"yourusername\",\n",
    "  password=\"yourpassword\",\n",
    "  database=\"yourdatabase\"\n",
    ")\n",
    "mycursor = mydb.cursor()\n",
    "mycursor.execute(\"SELECT * FROM yourtable\")\n",
    "myresult = mycursor.fetchall()\n",
    "for x in myresult:\n",
    "  print(x)\n",
    "\n",
    "\n",
    "\n",
    "\n",
    "\n",
    "\n"
   ]
  },
  {
   "cell_type": "code",
   "execution_count": null,
   "id": "173ea804-0dd3-4a91-a355-58aad9cb8050",
   "metadata": {},
   "outputs": [],
   "source": [
    "Q7\n",
    "The order of execution of clauses in an SQL query is as follows:\n",
    "\n",
    "FROM clause: The first step is to specify the tables from which the data will be retrieved.\n",
    "\n",
    "WHERE clause: After the tables have been specified, the WHERE clause is used to filter the data based on specific conditions.\n",
    "\n",
    "GROUP BY clause: If the query includes an aggregate function such as COUNT or SUM, the data is grouped based on the specified columns.\n",
    "\n",
    "HAVING clause: After the data has been grouped, the HAVING clause is used to filter the groups based on specific conditions.\n",
    "\n",
    "SELECT clause: Once the data has been filtered and grouped, the SELECT clause is used to specify the columns to be returned in the final result set.\n",
    "\n",
    "ORDER BY clause: Finally, the ORDER BY clause is used to sort the data in the final result set based on one or more column"
   ]
  }
 ],
 "metadata": {
  "kernelspec": {
   "display_name": "Python 3 (ipykernel)",
   "language": "python",
   "name": "python3"
  },
  "language_info": {
   "codemirror_mode": {
    "name": "ipython",
    "version": 3
   },
   "file_extension": ".py",
   "mimetype": "text/x-python",
   "name": "python",
   "nbconvert_exporter": "python",
   "pygments_lexer": "ipython3",
   "version": "3.10.8"
  }
 },
 "nbformat": 4,
 "nbformat_minor": 5
}
